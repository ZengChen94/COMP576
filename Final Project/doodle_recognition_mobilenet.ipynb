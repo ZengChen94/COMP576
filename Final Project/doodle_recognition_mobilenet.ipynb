{
  "nbformat": 4,
  "nbformat_minor": 0,
  "metadata": {
    "colab": {
      "name": "doodle_recognition_mobilenet.ipynb",
      "version": "0.3.2",
      "provenance": [],
      "collapsed_sections": []
    },
    "kernelspec": {
      "name": "python3",
      "display_name": "Python 3"
    },
    "accelerator": "GPU"
  },
  "cells": [
    {
      "metadata": {
        "id": "3HM4hfy-Z3Ek",
        "colab_type": "text"
      },
      "cell_type": "markdown",
      "source": [
        "`Load Environment`"
      ]
    },
    {
      "metadata": {
        "id": "uDmckZdbZ3oc",
        "colab_type": "code",
        "colab": {}
      },
      "cell_type": "code",
      "source": [
        "%matplotlib inline\n",
        "from IPython.core.interactiveshell import InteractiveShell\n",
        "InteractiveShell.ast_node_interactivity = \"all\"\n",
        "import os\n",
        "import ast\n",
        "import datetime as dt\n",
        "import matplotlib.pyplot as plt\n",
        "plt.rcParams['figure.figsize'] = [16, 10]\n",
        "plt.rcParams['font.size'] = 14\n",
        "import seaborn as sns\n",
        "import cv2\n",
        "# !pip install tqdm\n",
        "from tqdm import tqdm\n",
        "import pandas as pd\n",
        "import numpy as np\n",
        "import tensorflow as tf\n",
        "from tensorflow import keras\n",
        "from tensorflow.keras.layers import Conv2D, MaxPooling2D\n",
        "from tensorflow.keras.layers import Dense, Dropout, Flatten, Activation\n",
        "from tensorflow.keras.metrics import categorical_accuracy, top_k_categorical_accuracy, categorical_crossentropy\n",
        "from tensorflow.keras.models import Sequential\n",
        "from tensorflow.keras.callbacks import EarlyStopping, ReduceLROnPlateau, ModelCheckpoint\n",
        "from tensorflow.keras.optimizers import Adam\n",
        "from tensorflow.keras.applications import MobileNet\n",
        "from tensorflow.keras.applications.mobilenet import preprocess_input\n",
        "start = dt.datetime.now()"
      ],
      "execution_count": 0,
      "outputs": []
    },
    {
      "metadata": {
        "id": "p8CmsVwGZgyn",
        "colab_type": "text"
      },
      "cell_type": "markdown",
      "source": [
        "`Load and Simplify data`"
      ]
    },
    {
      "metadata": {
        "id": "g3ExHh7QHbgb",
        "colab_type": "code",
        "colab": {
          "base_uri": "https://localhost:8080/",
          "height": 204
        },
        "outputId": "46263175-a9e3-4f2d-9216-a4b3aa6a8e9b"
      },
      "cell_type": "code",
      "source": [
        "!pip install kaggle"
      ],
      "execution_count": 4,
      "outputs": [
        {
          "output_type": "stream",
          "text": [
            "Requirement already satisfied: kaggle in /usr/local/lib/python3.6/dist-packages (1.5.0)\n",
            "Requirement already satisfied: certifi in /usr/local/lib/python3.6/dist-packages (from kaggle) (2018.10.15)\n",
            "Requirement already satisfied: requests in /usr/local/lib/python3.6/dist-packages (from kaggle) (2.18.4)\n",
            "Requirement already satisfied: python-dateutil in /usr/local/lib/python3.6/dist-packages (from kaggle) (2.5.3)\n",
            "Requirement already satisfied: tqdm in /usr/local/lib/python3.6/dist-packages (from kaggle) (4.28.1)\n",
            "Requirement already satisfied: python-slugify in /usr/local/lib/python3.6/dist-packages (from kaggle) (1.2.6)\n",
            "Requirement already satisfied: six>=1.10 in /usr/local/lib/python3.6/dist-packages (from kaggle) (1.11.0)\n",
            "Requirement already satisfied: urllib3<1.23.0,>=1.15 in /usr/local/lib/python3.6/dist-packages (from kaggle) (1.22)\n",
            "Requirement already satisfied: idna<2.7,>=2.5 in /usr/local/lib/python3.6/dist-packages (from requests->kaggle) (2.6)\n",
            "Requirement already satisfied: chardet<3.1.0,>=3.0.2 in /usr/local/lib/python3.6/dist-packages (from requests->kaggle) (3.0.4)\n",
            "Requirement already satisfied: Unidecode>=0.04.16 in /usr/local/lib/python3.6/dist-packages (from python-slugify->kaggle) (1.0.22)\n"
          ],
          "name": "stdout"
        }
      ]
    },
    {
      "metadata": {
        "id": "yrtDWGSIcReC",
        "colab_type": "code",
        "colab": {
          "base_uri": "https://localhost:8080/",
          "height": 289
        },
        "outputId": "be0ae62a-0f33-4cdf-eadb-6b98da9b2932"
      },
      "cell_type": "code",
      "source": [
        "!touch ~/.kaggle/kaggle.json\n",
        "!echo \"{\\\"username\\\":\\\"zcunique\\\",\\\"key\\\":\\\"4bfa103616c5c7a66ea886d326eb90cb\\\"}\" > ~/.kaggle/kaggle.json\n",
        "!kaggle competitions download -c quickdraw-doodle-recognition"
      ],
      "execution_count": 5,
      "outputs": [
        {
          "output_type": "stream",
          "text": [
            "Warning: Your Kaggle API key is readable by otherusers on this system! To fix this, you can run'chmod 600 /root/.kaggle/kaggle.json'\n",
            "Downloading sample_submission.csv to /content\n",
            " 95% 5.00M/5.24M [00:00<00:00, 22.5MB/s]\n",
            "100% 5.24M/5.24M [00:00<00:00, 23.4MB/s]\n",
            "Downloading test_raw.csv to /content\n",
            " 98% 577M/589M [00:12<00:00, 41.1MB/s]\n",
            "100% 589M/589M [00:12<00:00, 48.9MB/s]\n",
            "Downloading test_simplified.csv to /content\n",
            " 98% 58.0M/59.0M [00:00<00:00, 57.9MB/s]\n",
            "100% 59.0M/59.0M [00:00<00:00, 92.0MB/s]\n",
            "Downloading train_raw.zip to /content\n",
            "100% 65.9G/65.9G [29:11<00:00, 64.5MB/s]\n",
            "100% 65.9G/65.9G [29:11<00:00, 40.4MB/s]\n",
            "Downloading train_simplified.zip to /content\n",
            "100% 7.37G/7.37G [02:10<00:00, 96.1MB/s]\n",
            "100% 7.37G/7.37G [02:10<00:00, 60.5MB/s]\n"
          ],
          "name": "stdout"
        }
      ]
    },
    {
      "metadata": {
        "id": "Y2p7L9KlP1Im",
        "colab_type": "code",
        "colab": {}
      },
      "cell_type": "code",
      "source": [
        "!mkdir ./input/\n",
        "!mkdir ./input/quickdraw-doodle-recognition\n",
        "!mkdir ./input/shuffle-csvs\n",
        "\n",
        "# !unzip -q train_raw.zip -d ./input/quickdraw-doodle-recognition/\n",
        "!unzip -q train_simplified.zip -d ./input/quickdraw-doodle-recognition/\n",
        "# !mv test_raw.csv ./input/quickdraw-doodle-recognition/\n",
        "# !mv sample_submission.csv ./input/quickdraw-doodle-recognition/\n",
        "# !mv test_simplified.csv ./input/quickdraw-doodle-recognition/"
      ],
      "execution_count": 0,
      "outputs": []
    },
    {
      "metadata": {
        "id": "kRlN7VfScF84",
        "colab_type": "code",
        "colab": {}
      },
      "cell_type": "code",
      "source": [
        "def f2cat(filename):\n",
        "    return filename.split('.')[0]\n",
        "\n",
        "\n",
        "class Simplified():\n",
        "    def __init__(self, input_path = './input'):\n",
        "        self.input_path = input_path\n",
        "    \n",
        "    def list_all_categories(self):\n",
        "        files = os.listdir(os.path.join(self.input_path, 'quickdraw-doodle-recognition'))\n",
        "        return sorted([f2cat(f) for f in files],key=str.lower)\n",
        "    \n",
        "    def read_training_csv(self, category, nrows=None, usecols=None, drawing_transform=False):\n",
        "        df = pd.read_csv(os.path.join(self.input_path, 'quickdraw-doodle-recognition', category+'.csv'),\n",
        "                        nrows=nrows, parse_dates= ['timestamp'], usecols=usecols)\n",
        "        if drawing_transform:\n",
        "            df['drawing'] = df['drawing'].apply(ast.literal_eval)\n",
        "        return df"
      ],
      "execution_count": 0,
      "outputs": []
    },
    {
      "metadata": {
        "id": "iGZtqmLvcQ4P",
        "colab_type": "code",
        "colab": {
          "base_uri": "https://localhost:8080/",
          "height": 34
        },
        "outputId": "7c0d2264-a8c0-4069-e924-09e125da942e"
      },
      "cell_type": "code",
      "source": [
        "start = dt.datetime.now()\n",
        "s = Simplified('./input')\n",
        "NCSVS = 100\n",
        "categories = s.list_all_categories()\n",
        "print(len(categories))"
      ],
      "execution_count": 8,
      "outputs": [
        {
          "output_type": "stream",
          "text": [
            "340\n"
          ],
          "name": "stdout"
        }
      ]
    },
    {
      "metadata": {
        "id": "YZiLmqBdcSyO",
        "colab_type": "code",
        "colab": {
          "base_uri": "https://localhost:8080/",
          "height": 68
        },
        "outputId": "78af7ec4-c145-4f11-86f5-a9c1a6343d78"
      },
      "cell_type": "code",
      "source": [
        "for y, cat in tqdm(enumerate(categories)):\n",
        "    df = s.read_training_csv(cat, nrows=40000)\n",
        "    df['y'] = y\n",
        "    df['cv'] = (df.key_id // 10 ** 7) % NCSVS # a random int to decide which shuffle csv it should go into\n",
        "    for k in range(NCSVS):\n",
        "        filename = './input/shuffle-csvs/train_k{}.csv'.format(k)\n",
        "        chunk = df[df.cv == k]\n",
        "        chunk = chunk.drop(['key_id'], axis=1)\n",
        "        if y == 0:\n",
        "            chunk.to_csv(filename, index=False)\n",
        "        else:\n",
        "            chunk.to_csv(filename, mode='a', header=False, index=False)\n",
        "            \n",
        "\n",
        "for k in tqdm(range(NCSVS)):\n",
        "    filename = './input/shuffle-csvs/train_k{}.csv'.format(k)\n",
        "    if os.path.exists(filename):\n",
        "        df = pd.read_csv(filename)\n",
        "        df['rnd'] = np.random.rand(len(df))\n",
        "        df = df.sort_values(by='rnd').drop('rnd', axis=1)\n",
        "        df.to_csv(filename + '.gz', compression='gzip', index=False)\n",
        "        os.remove(filename)\n",
        "print(df.shape)"
      ],
      "execution_count": 10,
      "outputs": [
        {
          "output_type": "stream",
          "text": [
            "340it [06:56,  1.18s/it]\n",
            "100%|██████████| 100/100 [1:07:16<00:00, 40.29s/it]"
          ],
          "name": "stderr"
        },
        {
          "output_type": "stream",
          "text": [
            "(135903, 7)\n"
          ],
          "name": "stdout"
        },
        {
          "output_type": "stream",
          "text": [
            "\n"
          ],
          "name": "stderr"
        }
      ]
    },
    {
      "metadata": {
        "id": "vdgIUcGVbO-l",
        "colab_type": "text"
      },
      "cell_type": "markdown",
      "source": [
        "`Train and Test`"
      ]
    },
    {
      "metadata": {
        "id": "dfvkiuhIIxbW",
        "colab_type": "code",
        "colab": {}
      },
      "cell_type": "code",
      "source": [
        "DP_DIR = './input/shuffle-csvs/'\n",
        "INPUT_DIR = './input/quickdraw-doodle-recognition/'\n",
        "\n",
        "BASE_SIZE = 256\n",
        "NCSVS = 100\n",
        "NCATS = 340\n",
        "np.random.seed(seed=1987)\n",
        "tf.set_random_seed(seed=1987)\n",
        "\n",
        "def f2cat(filename: str) -> str:\n",
        "    return filename.split('.')[0]\n",
        "\n",
        "# def list_all_categories():\n",
        "#     files = os.listdir(os.path.join(INPUT_DIR, 'shuffle-csvs'))\n",
        "#     return sorted([f2cat(f) for f in files], key=str.lower)"
      ],
      "execution_count": 0,
      "outputs": []
    },
    {
      "metadata": {
        "id": "R6apP2MVIxyN",
        "colab_type": "code",
        "colab": {}
      },
      "cell_type": "code",
      "source": [
        "def apk(actual, predicted, k=3):\n",
        "    \"\"\"\n",
        "    Source: https://github.com/benhamner/Metrics/blob/master/Python/ml_metrics/average_precision.py\n",
        "    \"\"\"\n",
        "    if len(predicted) > k:\n",
        "        predicted = predicted[:k]\n",
        "    score = 0.0\n",
        "    num_hits = 0.0\n",
        "    for i, p in enumerate(predicted):\n",
        "        if p in actual and p not in predicted[:i]:\n",
        "            num_hits += 1.0\n",
        "            score += num_hits / (i + 1.0)\n",
        "    if not actual:\n",
        "        return 0.0\n",
        "    return score / min(len(actual), k)\n",
        "\n",
        "def mapk(actual, predicted, k=3):\n",
        "    \"\"\"\n",
        "    Source: https://github.com/benhamner/Metrics/blob/master/Python/ml_metrics/average_precision.py\n",
        "    \"\"\"\n",
        "    return np.mean([apk(a, p, k) for a, p in zip(actual, predicted)])\n",
        "\n",
        "def preds2catids(predictions):\n",
        "    return pd.DataFrame(np.argsort(-predictions, axis=1)[:, :3], columns=['a', 'b', 'c'])\n",
        "\n",
        "def top_3_accuracy(y_true, y_pred):\n",
        "    return top_k_categorical_accuracy(y_true, y_pred, k=3)"
      ],
      "execution_count": 0,
      "outputs": []
    },
    {
      "metadata": {
        "id": "AoL6pxeOIx1x",
        "colab_type": "code",
        "colab": {}
      },
      "cell_type": "code",
      "source": [
        "STEPS = 800\n",
        "EPOCHS = 30\n",
        "size = 64\n",
        "# size = 128\n",
        "batchsize = 680"
      ],
      "execution_count": 0,
      "outputs": []
    },
    {
      "metadata": {
        "id": "__mHdRpVII2U",
        "colab_type": "code",
        "colab": {
          "base_uri": "https://localhost:8080/",
          "height": 3315
        },
        "outputId": "1cf06671-e355-42c7-94c7-dd13269fd141"
      },
      "cell_type": "code",
      "source": [
        "model = MobileNet(input_shape=(size, size, 1), alpha=1., weights=None, classes=NCATS)\n",
        "model.compile(optimizer=Adam(lr=0.002), loss='categorical_crossentropy',\n",
        "              metrics=[categorical_crossentropy, categorical_accuracy, top_3_accuracy])\n",
        "print(model.summary())"
      ],
      "execution_count": 14,
      "outputs": [
        {
          "output_type": "stream",
          "text": [
            "_________________________________________________________________\n",
            "Layer (type)                 Output Shape              Param #   \n",
            "=================================================================\n",
            "input_1 (InputLayer)         (None, 64, 64, 1)         0         \n",
            "_________________________________________________________________\n",
            "conv1_pad (ZeroPadding2D)    (None, 65, 65, 1)         0         \n",
            "_________________________________________________________________\n",
            "conv1 (Conv2D)               (None, 32, 32, 32)        288       \n",
            "_________________________________________________________________\n",
            "conv1_bn (BatchNormalization (None, 32, 32, 32)        128       \n",
            "_________________________________________________________________\n",
            "conv1_relu (ReLU)            (None, 32, 32, 32)        0         \n",
            "_________________________________________________________________\n",
            "conv_dw_1 (DepthwiseConv2D)  (None, 32, 32, 32)        288       \n",
            "_________________________________________________________________\n",
            "conv_dw_1_bn (BatchNormaliza (None, 32, 32, 32)        128       \n",
            "_________________________________________________________________\n",
            "conv_dw_1_relu (ReLU)        (None, 32, 32, 32)        0         \n",
            "_________________________________________________________________\n",
            "conv_pw_1 (Conv2D)           (None, 32, 32, 64)        2048      \n",
            "_________________________________________________________________\n",
            "conv_pw_1_bn (BatchNormaliza (None, 32, 32, 64)        256       \n",
            "_________________________________________________________________\n",
            "conv_pw_1_relu (ReLU)        (None, 32, 32, 64)        0         \n",
            "_________________________________________________________________\n",
            "conv_pad_2 (ZeroPadding2D)   (None, 33, 33, 64)        0         \n",
            "_________________________________________________________________\n",
            "conv_dw_2 (DepthwiseConv2D)  (None, 16, 16, 64)        576       \n",
            "_________________________________________________________________\n",
            "conv_dw_2_bn (BatchNormaliza (None, 16, 16, 64)        256       \n",
            "_________________________________________________________________\n",
            "conv_dw_2_relu (ReLU)        (None, 16, 16, 64)        0         \n",
            "_________________________________________________________________\n",
            "conv_pw_2 (Conv2D)           (None, 16, 16, 128)       8192      \n",
            "_________________________________________________________________\n",
            "conv_pw_2_bn (BatchNormaliza (None, 16, 16, 128)       512       \n",
            "_________________________________________________________________\n",
            "conv_pw_2_relu (ReLU)        (None, 16, 16, 128)       0         \n",
            "_________________________________________________________________\n",
            "conv_dw_3 (DepthwiseConv2D)  (None, 16, 16, 128)       1152      \n",
            "_________________________________________________________________\n",
            "conv_dw_3_bn (BatchNormaliza (None, 16, 16, 128)       512       \n",
            "_________________________________________________________________\n",
            "conv_dw_3_relu (ReLU)        (None, 16, 16, 128)       0         \n",
            "_________________________________________________________________\n",
            "conv_pw_3 (Conv2D)           (None, 16, 16, 128)       16384     \n",
            "_________________________________________________________________\n",
            "conv_pw_3_bn (BatchNormaliza (None, 16, 16, 128)       512       \n",
            "_________________________________________________________________\n",
            "conv_pw_3_relu (ReLU)        (None, 16, 16, 128)       0         \n",
            "_________________________________________________________________\n",
            "conv_pad_4 (ZeroPadding2D)   (None, 17, 17, 128)       0         \n",
            "_________________________________________________________________\n",
            "conv_dw_4 (DepthwiseConv2D)  (None, 8, 8, 128)         1152      \n",
            "_________________________________________________________________\n",
            "conv_dw_4_bn (BatchNormaliza (None, 8, 8, 128)         512       \n",
            "_________________________________________________________________\n",
            "conv_dw_4_relu (ReLU)        (None, 8, 8, 128)         0         \n",
            "_________________________________________________________________\n",
            "conv_pw_4 (Conv2D)           (None, 8, 8, 256)         32768     \n",
            "_________________________________________________________________\n",
            "conv_pw_4_bn (BatchNormaliza (None, 8, 8, 256)         1024      \n",
            "_________________________________________________________________\n",
            "conv_pw_4_relu (ReLU)        (None, 8, 8, 256)         0         \n",
            "_________________________________________________________________\n",
            "conv_dw_5 (DepthwiseConv2D)  (None, 8, 8, 256)         2304      \n",
            "_________________________________________________________________\n",
            "conv_dw_5_bn (BatchNormaliza (None, 8, 8, 256)         1024      \n",
            "_________________________________________________________________\n",
            "conv_dw_5_relu (ReLU)        (None, 8, 8, 256)         0         \n",
            "_________________________________________________________________\n",
            "conv_pw_5 (Conv2D)           (None, 8, 8, 256)         65536     \n",
            "_________________________________________________________________\n",
            "conv_pw_5_bn (BatchNormaliza (None, 8, 8, 256)         1024      \n",
            "_________________________________________________________________\n",
            "conv_pw_5_relu (ReLU)        (None, 8, 8, 256)         0         \n",
            "_________________________________________________________________\n",
            "conv_pad_6 (ZeroPadding2D)   (None, 9, 9, 256)         0         \n",
            "_________________________________________________________________\n",
            "conv_dw_6 (DepthwiseConv2D)  (None, 4, 4, 256)         2304      \n",
            "_________________________________________________________________\n",
            "conv_dw_6_bn (BatchNormaliza (None, 4, 4, 256)         1024      \n",
            "_________________________________________________________________\n",
            "conv_dw_6_relu (ReLU)        (None, 4, 4, 256)         0         \n",
            "_________________________________________________________________\n",
            "conv_pw_6 (Conv2D)           (None, 4, 4, 512)         131072    \n",
            "_________________________________________________________________\n",
            "conv_pw_6_bn (BatchNormaliza (None, 4, 4, 512)         2048      \n",
            "_________________________________________________________________\n",
            "conv_pw_6_relu (ReLU)        (None, 4, 4, 512)         0         \n",
            "_________________________________________________________________\n",
            "conv_dw_7 (DepthwiseConv2D)  (None, 4, 4, 512)         4608      \n",
            "_________________________________________________________________\n",
            "conv_dw_7_bn (BatchNormaliza (None, 4, 4, 512)         2048      \n",
            "_________________________________________________________________\n",
            "conv_dw_7_relu (ReLU)        (None, 4, 4, 512)         0         \n",
            "_________________________________________________________________\n",
            "conv_pw_7 (Conv2D)           (None, 4, 4, 512)         262144    \n",
            "_________________________________________________________________\n",
            "conv_pw_7_bn (BatchNormaliza (None, 4, 4, 512)         2048      \n",
            "_________________________________________________________________\n",
            "conv_pw_7_relu (ReLU)        (None, 4, 4, 512)         0         \n",
            "_________________________________________________________________\n",
            "conv_dw_8 (DepthwiseConv2D)  (None, 4, 4, 512)         4608      \n",
            "_________________________________________________________________\n",
            "conv_dw_8_bn (BatchNormaliza (None, 4, 4, 512)         2048      \n",
            "_________________________________________________________________\n",
            "conv_dw_8_relu (ReLU)        (None, 4, 4, 512)         0         \n",
            "_________________________________________________________________\n",
            "conv_pw_8 (Conv2D)           (None, 4, 4, 512)         262144    \n",
            "_________________________________________________________________\n",
            "conv_pw_8_bn (BatchNormaliza (None, 4, 4, 512)         2048      \n",
            "_________________________________________________________________\n",
            "conv_pw_8_relu (ReLU)        (None, 4, 4, 512)         0         \n",
            "_________________________________________________________________\n",
            "conv_dw_9 (DepthwiseConv2D)  (None, 4, 4, 512)         4608      \n",
            "_________________________________________________________________\n",
            "conv_dw_9_bn (BatchNormaliza (None, 4, 4, 512)         2048      \n",
            "_________________________________________________________________\n",
            "conv_dw_9_relu (ReLU)        (None, 4, 4, 512)         0         \n",
            "_________________________________________________________________\n",
            "conv_pw_9 (Conv2D)           (None, 4, 4, 512)         262144    \n",
            "_________________________________________________________________\n",
            "conv_pw_9_bn (BatchNormaliza (None, 4, 4, 512)         2048      \n",
            "_________________________________________________________________\n",
            "conv_pw_9_relu (ReLU)        (None, 4, 4, 512)         0         \n",
            "_________________________________________________________________\n",
            "conv_dw_10 (DepthwiseConv2D) (None, 4, 4, 512)         4608      \n",
            "_________________________________________________________________\n",
            "conv_dw_10_bn (BatchNormaliz (None, 4, 4, 512)         2048      \n",
            "_________________________________________________________________\n",
            "conv_dw_10_relu (ReLU)       (None, 4, 4, 512)         0         \n",
            "_________________________________________________________________\n",
            "conv_pw_10 (Conv2D)          (None, 4, 4, 512)         262144    \n",
            "_________________________________________________________________\n",
            "conv_pw_10_bn (BatchNormaliz (None, 4, 4, 512)         2048      \n",
            "_________________________________________________________________\n",
            "conv_pw_10_relu (ReLU)       (None, 4, 4, 512)         0         \n",
            "_________________________________________________________________\n",
            "conv_dw_11 (DepthwiseConv2D) (None, 4, 4, 512)         4608      \n",
            "_________________________________________________________________\n",
            "conv_dw_11_bn (BatchNormaliz (None, 4, 4, 512)         2048      \n",
            "_________________________________________________________________\n",
            "conv_dw_11_relu (ReLU)       (None, 4, 4, 512)         0         \n",
            "_________________________________________________________________\n",
            "conv_pw_11 (Conv2D)          (None, 4, 4, 512)         262144    \n",
            "_________________________________________________________________\n",
            "conv_pw_11_bn (BatchNormaliz (None, 4, 4, 512)         2048      \n",
            "_________________________________________________________________\n",
            "conv_pw_11_relu (ReLU)       (None, 4, 4, 512)         0         \n",
            "_________________________________________________________________\n",
            "conv_pad_12 (ZeroPadding2D)  (None, 5, 5, 512)         0         \n",
            "_________________________________________________________________\n",
            "conv_dw_12 (DepthwiseConv2D) (None, 2, 2, 512)         4608      \n",
            "_________________________________________________________________\n",
            "conv_dw_12_bn (BatchNormaliz (None, 2, 2, 512)         2048      \n",
            "_________________________________________________________________\n",
            "conv_dw_12_relu (ReLU)       (None, 2, 2, 512)         0         \n",
            "_________________________________________________________________\n",
            "conv_pw_12 (Conv2D)          (None, 2, 2, 1024)        524288    \n",
            "_________________________________________________________________\n",
            "conv_pw_12_bn (BatchNormaliz (None, 2, 2, 1024)        4096      \n",
            "_________________________________________________________________\n",
            "conv_pw_12_relu (ReLU)       (None, 2, 2, 1024)        0         \n",
            "_________________________________________________________________\n",
            "conv_dw_13 (DepthwiseConv2D) (None, 2, 2, 1024)        9216      \n",
            "_________________________________________________________________\n",
            "conv_dw_13_bn (BatchNormaliz (None, 2, 2, 1024)        4096      \n",
            "_________________________________________________________________\n",
            "conv_dw_13_relu (ReLU)       (None, 2, 2, 1024)        0         \n",
            "_________________________________________________________________\n",
            "conv_pw_13 (Conv2D)          (None, 2, 2, 1024)        1048576   \n",
            "_________________________________________________________________\n",
            "conv_pw_13_bn (BatchNormaliz (None, 2, 2, 1024)        4096      \n",
            "_________________________________________________________________\n",
            "conv_pw_13_relu (ReLU)       (None, 2, 2, 1024)        0         \n",
            "_________________________________________________________________\n",
            "global_average_pooling2d (Gl (None, 1024)              0         \n",
            "_________________________________________________________________\n",
            "reshape_1 (Reshape)          (None, 1, 1, 1024)        0         \n",
            "_________________________________________________________________\n",
            "dropout (Dropout)            (None, 1, 1, 1024)        0         \n",
            "_________________________________________________________________\n",
            "conv_preds (Conv2D)          (None, 1, 1, 340)         348500    \n",
            "_________________________________________________________________\n",
            "act_softmax (Activation)     (None, 1, 1, 340)         0         \n",
            "_________________________________________________________________\n",
            "reshape_2 (Reshape)          (None, 340)               0         \n",
            "=================================================================\n",
            "Total params: 3,576,788\n",
            "Trainable params: 3,554,900\n",
            "Non-trainable params: 21,888\n",
            "_________________________________________________________________\n",
            "None\n"
          ],
          "name": "stdout"
        }
      ]
    },
    {
      "metadata": {
        "id": "jBJmvpo-INFQ",
        "colab_type": "code",
        "colab": {}
      },
      "cell_type": "code",
      "source": [
        "def draw_cv2(raw_strokes, size=256, lw=6, time_color=True):\n",
        "    img = np.zeros((BASE_SIZE, BASE_SIZE), np.uint8)\n",
        "    for t, stroke in enumerate(raw_strokes):\n",
        "        for i in range(len(stroke[0]) - 1):\n",
        "            color = 255 - min(t, 10) * 13 if time_color else 255\n",
        "            _ = cv2.line(img, (stroke[0][i], stroke[1][i]),\n",
        "                         (stroke[0][i + 1], stroke[1][i + 1]), color, lw)\n",
        "    if size != BASE_SIZE:\n",
        "        return cv2.resize(img, (size, size))\n",
        "    else:\n",
        "        return img\n",
        "\n",
        "def image_generator_xd(size, batchsize, ks, lw=6, time_color=True):\n",
        "    while True:\n",
        "        for k in np.random.permutation(ks):\n",
        "            filename = os.path.join(DP_DIR, 'train_k{}.csv.gz'.format(k))\n",
        "            for df in pd.read_csv(filename, chunksize=batchsize):\n",
        "                df['drawing'] = df['drawing'].apply(ast.literal_eval)\n",
        "                x = np.zeros((len(df), size, size, 1))\n",
        "                for i, raw_strokes in enumerate(df.drawing.values):\n",
        "                    x[i, :, :, 0] = draw_cv2(raw_strokes, size=size, lw=lw,\n",
        "                                             time_color=time_color)\n",
        "                x = preprocess_input(x).astype(np.float32)\n",
        "                y = keras.utils.to_categorical(df.y, num_classes=NCATS)\n",
        "                yield x, y\n",
        "\n",
        "def df_to_image_array_xd(df, size, lw=6, time_color=True):\n",
        "    df['drawing'] = df['drawing'].apply(ast.literal_eval)\n",
        "    x = np.zeros((len(df), size, size, 1))\n",
        "    for i, raw_strokes in enumerate(df.drawing.values):\n",
        "        x[i, :, :, 0] = draw_cv2(raw_strokes, size=size, lw=lw, time_color=time_color)\n",
        "    x = preprocess_input(x).astype(np.float32)\n",
        "    return x"
      ],
      "execution_count": 0,
      "outputs": []
    },
    {
      "metadata": {
        "id": "XuoEqST9IUK8",
        "colab_type": "code",
        "colab": {
          "base_uri": "https://localhost:8080/",
          "height": 51
        },
        "outputId": "4ba4167a-0dbf-4d96-fafc-86d6f74c42c6"
      },
      "cell_type": "code",
      "source": [
        "valid_df = pd.read_csv(os.path.join(DP_DIR, 'train_k{}.csv.gz'.format(NCSVS - 1)), nrows=34000)\n",
        "x_valid = df_to_image_array_xd(valid_df, size)\n",
        "y_valid = keras.utils.to_categorical(valid_df.y, num_classes=NCATS)\n",
        "print(x_valid.shape, y_valid.shape)\n",
        "print('Validation array memory {:.2f} GB'.format(x_valid.nbytes / 1024.**3 ))"
      ],
      "execution_count": 16,
      "outputs": [
        {
          "output_type": "stream",
          "text": [
            "(34000, 64, 64, 1) (34000, 340)\n",
            "Validation array memory 0.52 GB\n"
          ],
          "name": "stdout"
        }
      ]
    },
    {
      "metadata": {
        "id": "fgQnLhEQIU7m",
        "colab_type": "code",
        "colab": {}
      },
      "cell_type": "code",
      "source": [
        "train_datagen = image_generator_xd(size=size, batchsize=batchsize, ks=range(NCSVS - 1))"
      ],
      "execution_count": 0,
      "outputs": []
    },
    {
      "metadata": {
        "id": "vbMdHVMtIXz_",
        "colab_type": "code",
        "colab": {
          "base_uri": "https://localhost:8080/",
          "height": 865
        },
        "outputId": "1c1beba1-8687-48b0-bde6-5b8fa0349b69"
      },
      "cell_type": "code",
      "source": [
        "x, y = next(train_datagen)\n",
        "n = 8\n",
        "fig, axs = plt.subplots(nrows=n, ncols=n, sharex=True, sharey=True, figsize=(12, 12))\n",
        "for i in range(n**2):\n",
        "    ax = axs[i // n, i % n]\n",
        "    (-x[i]+1)/2\n",
        "    ax.imshow((-x[i, :, :, 0] + 1)/2, cmap=plt.cm.gray)\n",
        "    ax.axis('off')\n",
        "plt.tight_layout()\n",
        "fig.savefig('gs.png', dpi=300)\n",
        "plt.show();"
      ],
      "execution_count": 18,
      "outputs": [
        {
          "output_type": "display_data",
          "data": {
            "image/png": "[encoded data removed]",
            "text/plain": [
              "<matplotlib.figure.Figure at 0x7f4bef3418d0>"
            ]
          },
          "metadata": {
            "tags": []
          }
        }
      ]
    },
    {
      "metadata": {
        "id": "EagQCLiwIbuW",
        "colab_type": "code",
        "colab": {
          "base_uri": "https://localhost:8080/",
          "height": 1091
        },
        "outputId": "f9faefb4-4128-4eb8-8c00-b092203a1440"
      },
      "cell_type": "code",
      "source": [
        "callbacks = [\n",
        "    ReduceLROnPlateau(monitor='val_categorical_accuracy', factor=0.5, patience=5,\n",
        "                      min_delta=0.005, mode='max', cooldown=3, verbose=1)\n",
        "]\n",
        "hists = []\n",
        "hist = model.fit_generator(\n",
        "    train_datagen, steps_per_epoch=STEPS, epochs=EPOCHS, verbose=1,\n",
        "    validation_data=(x_valid, y_valid),\n",
        "    callbacks = callbacks\n",
        ")\n",
        "hists.append(hist)"
      ],
      "execution_count": 19,
      "outputs": [
        {
          "output_type": "stream",
          "text": [
            "Epoch 1/30\n",
            "800/800 [==============================] - 409s 512ms/step - loss: 2.8140 - categorical_crossentropy: 2.8140 - categorical_accuracy: 0.3712 - top_3_accuracy: 0.5559 - val_loss: 2.9036 - val_categorical_crossentropy: 2.9036 - val_categorical_accuracy: 0.3831 - val_top_3_accuracy: 0.5922\n",
            "Epoch 2/30\n",
            "800/800 [==============================] - 390s 488ms/step - loss: 1.6720 - categorical_crossentropy: 1.6720 - categorical_accuracy: 0.5857 - top_3_accuracy: 0.7851 - val_loss: 2.2147 - val_categorical_crossentropy: 2.2147 - val_categorical_accuracy: 0.4673 - val_top_3_accuracy: 0.6915\n",
            "Epoch 3/30\n",
            "800/800 [==============================] - 398s 498ms/step - loss: 1.4479 - categorical_crossentropy: 1.4479 - categorical_accuracy: 0.6363 - top_3_accuracy: 0.8231 - val_loss: 1.6984 - val_categorical_crossentropy: 1.6984 - val_categorical_accuracy: 0.5759 - val_top_3_accuracy: 0.7808\n",
            "Epoch 4/30\n",
            "800/800 [==============================] - 393s 492ms/step - loss: 1.3389 - categorical_crossentropy: 1.3389 - categorical_accuracy: 0.6619 - top_3_accuracy: 0.8411 - val_loss: 1.6024 - val_categorical_crossentropy: 1.6024 - val_categorical_accuracy: 0.6018 - val_top_3_accuracy: 0.8006\n",
            "Epoch 5/30\n",
            "800/800 [==============================] - 398s 497ms/step - loss: 1.2618 - categorical_crossentropy: 1.2618 - categorical_accuracy: 0.6804 - top_3_accuracy: 0.8535 - val_loss: 1.4932 - val_categorical_crossentropy: 1.4932 - val_categorical_accuracy: 0.6253 - val_top_3_accuracy: 0.8151\n",
            "Epoch 6/30\n",
            "800/800 [==============================] - 392s 490ms/step - loss: 1.2103 - categorical_crossentropy: 1.2103 - categorical_accuracy: 0.6919 - top_3_accuracy: 0.8620 - val_loss: 1.7903 - val_categorical_crossentropy: 1.7903 - val_categorical_accuracy: 0.5579 - val_top_3_accuracy: 0.7690\n",
            "Epoch 7/30\n",
            "800/800 [==============================] - 401s 501ms/step - loss: 1.1661 - categorical_crossentropy: 1.1661 - categorical_accuracy: 0.7029 - top_3_accuracy: 0.8683 - val_loss: 1.3128 - val_categorical_crossentropy: 1.3128 - val_categorical_accuracy: 0.6663 - val_top_3_accuracy: 0.8454\n",
            "Epoch 8/30\n",
            "800/800 [==============================] - 392s 491ms/step - loss: 1.1416 - categorical_crossentropy: 1.1416 - categorical_accuracy: 0.7088 - top_3_accuracy: 0.8718 - val_loss: 1.2358 - val_categorical_crossentropy: 1.2358 - val_categorical_accuracy: 0.6851 - val_top_3_accuracy: 0.8606\n",
            "Epoch 9/30\n",
            "800/800 [==============================] - 392s 490ms/step - loss: 1.1103 - categorical_crossentropy: 1.1103 - categorical_accuracy: 0.7155 - top_3_accuracy: 0.8766 - val_loss: 1.3239 - val_categorical_crossentropy: 1.3239 - val_categorical_accuracy: 0.6644 - val_top_3_accuracy: 0.8427\n",
            "Epoch 10/30\n",
            "800/800 [==============================] - 393s 492ms/step - loss: 1.0924 - categorical_crossentropy: 1.0924 - categorical_accuracy: 0.7197 - top_3_accuracy: 0.8792 - val_loss: 1.1411 - val_categorical_crossentropy: 1.1411 - val_categorical_accuracy: 0.7076 - val_top_3_accuracy: 0.8743\n",
            "Epoch 11/30\n",
            "800/800 [==============================] - 394s 492ms/step - loss: 1.0720 - categorical_crossentropy: 1.0720 - categorical_accuracy: 0.7254 - top_3_accuracy: 0.8827 - val_loss: 1.1296 - val_categorical_crossentropy: 1.1296 - val_categorical_accuracy: 0.7107 - val_top_3_accuracy: 0.8752\n",
            "Epoch 12/30\n",
            "800/800 [==============================] - 393s 491ms/step - loss: 1.0513 - categorical_crossentropy: 1.0513 - categorical_accuracy: 0.7302 - top_3_accuracy: 0.8857 - val_loss: 2.4101 - val_categorical_crossentropy: 2.4101 - val_categorical_accuracy: 0.4474 - val_top_3_accuracy: 0.6658\n",
            "Epoch 13/30\n",
            "800/800 [==============================] - 402s 502ms/step - loss: 1.0369 - categorical_crossentropy: 1.0369 - categorical_accuracy: 0.7341 - top_3_accuracy: 0.8880 - val_loss: 1.6018 - val_categorical_crossentropy: 1.6018 - val_categorical_accuracy: 0.5991 - val_top_3_accuracy: 0.7994\n",
            "Epoch 14/30\n",
            "800/800 [==============================] - 391s 489ms/step - loss: 1.0327 - categorical_crossentropy: 1.0327 - categorical_accuracy: 0.7340 - top_3_accuracy: 0.8886 - val_loss: 1.0659 - val_categorical_crossentropy: 1.0659 - val_categorical_accuracy: 0.7266 - val_top_3_accuracy: 0.8854\n",
            "Epoch 15/30\n",
            "800/800 [==============================] - 391s 488ms/step - loss: 1.0126 - categorical_crossentropy: 1.0126 - categorical_accuracy: 0.7395 - top_3_accuracy: 0.8915 - val_loss: 1.0717 - val_categorical_crossentropy: 1.0717 - val_categorical_accuracy: 0.7234 - val_top_3_accuracy: 0.8824\n",
            "Epoch 16/30\n",
            "800/800 [==============================] - 394s 493ms/step - loss: 1.0013 - categorical_crossentropy: 1.0013 - categorical_accuracy: 0.7426 - top_3_accuracy: 0.8928 - val_loss: 1.0539 - val_categorical_crossentropy: 1.0539 - val_categorical_accuracy: 0.7291 - val_top_3_accuracy: 0.8859\n",
            "Epoch 17/30\n",
            "800/800 [==============================] - 396s 495ms/step - loss: 1.0024 - categorical_crossentropy: 1.0024 - categorical_accuracy: 0.7421 - top_3_accuracy: 0.8923 - val_loss: 2.2278 - val_categorical_crossentropy: 2.2278 - val_categorical_accuracy: 0.4710 - val_top_3_accuracy: 0.6874\n",
            "Epoch 18/30\n",
            "800/800 [==============================] - 393s 492ms/step - loss: 0.9833 - categorical_crossentropy: 0.9833 - categorical_accuracy: 0.7479 - top_3_accuracy: 0.8955 - val_loss: 1.0096 - val_categorical_crossentropy: 1.0096 - val_categorical_accuracy: 0.7385 - val_top_3_accuracy: 0.8919\n",
            "Epoch 19/30\n",
            "800/800 [==============================] - 399s 498ms/step - loss: 0.9698 - categorical_crossentropy: 0.9698 - categorical_accuracy: 0.7501 - top_3_accuracy: 0.8971 - val_loss: 1.0012 - val_categorical_crossentropy: 1.0012 - val_categorical_accuracy: 0.7440 - val_top_3_accuracy: 0.8919\n",
            "Epoch 20/30\n",
            "800/800 [==============================] - 393s 491ms/step - loss: 0.9675 - categorical_crossentropy: 0.9675 - categorical_accuracy: 0.7499 - top_3_accuracy: 0.8971 - val_loss: 1.0442 - val_categorical_crossentropy: 1.0442 - val_categorical_accuracy: 0.7286 - val_top_3_accuracy: 0.8885\n",
            "Epoch 21/30\n",
            "800/800 [==============================] - 389s 486ms/step - loss: 0.9668 - categorical_crossentropy: 0.9668 - categorical_accuracy: 0.7510 - top_3_accuracy: 0.8980 - val_loss: 0.9840 - val_categorical_crossentropy: 0.9840 - val_categorical_accuracy: 0.7468 - val_top_3_accuracy: 0.8964\n",
            "Epoch 22/30\n",
            "800/800 [==============================] - 393s 492ms/step - loss: 0.9552 - categorical_crossentropy: 0.9552 - categorical_accuracy: 0.7540 - top_3_accuracy: 0.8990 - val_loss: 3.6518 - val_categorical_crossentropy: 3.6518 - val_categorical_accuracy: 0.2605 - val_top_3_accuracy: 0.4263\n",
            "Epoch 23/30\n",
            "800/800 [==============================] - 389s 487ms/step - loss: 0.9467 - categorical_crossentropy: 0.9467 - categorical_accuracy: 0.7559 - top_3_accuracy: 0.9004 - val_loss: 0.9745 - val_categorical_crossentropy: 0.9745 - val_categorical_accuracy: 0.7479 - val_top_3_accuracy: 0.8977\n",
            "Epoch 24/30\n",
            "799/800 [============================>.] - ETA: 0s - loss: 0.9381 - categorical_crossentropy: 0.9381 - categorical_accuracy: 0.7574 - top_3_accuracy: 0.9018\n",
            "Epoch 00024: ReduceLROnPlateau reducing learning rate to 0.0010000000474974513.\n",
            "800/800 [==============================] - 393s 492ms/step - loss: 0.9380 - categorical_crossentropy: 0.9380 - categorical_accuracy: 0.7575 - top_3_accuracy: 0.9018 - val_loss: 0.9643 - val_categorical_crossentropy: 0.9643 - val_categorical_accuracy: 0.7485 - val_top_3_accuracy: 0.8990\n",
            "Epoch 25/30\n",
            "800/800 [==============================] - 395s 494ms/step - loss: 0.8952 - categorical_crossentropy: 0.8952 - categorical_accuracy: 0.7687 - top_3_accuracy: 0.9072 - val_loss: 0.9021 - val_categorical_crossentropy: 0.9021 - val_categorical_accuracy: 0.7679 - val_top_3_accuracy: 0.9055\n",
            "Epoch 26/30\n",
            "800/800 [==============================] - 385s 482ms/step - loss: 0.8561 - categorical_crossentropy: 0.8561 - categorical_accuracy: 0.7784 - top_3_accuracy: 0.9122 - val_loss: 0.9022 - val_categorical_crossentropy: 0.9022 - val_categorical_accuracy: 0.7679 - val_top_3_accuracy: 0.9074\n",
            "Epoch 27/30\n",
            "800/800 [==============================] - 386s 483ms/step - loss: 0.8681 - categorical_crossentropy: 0.8681 - categorical_accuracy: 0.7747 - top_3_accuracy: 0.9114 - val_loss: 0.8855 - val_categorical_crossentropy: 0.8855 - val_categorical_accuracy: 0.7696 - val_top_3_accuracy: 0.9089\n",
            "Epoch 28/30\n",
            "800/800 [==============================] - 386s 482ms/step - loss: 0.8425 - categorical_crossentropy: 0.8425 - categorical_accuracy: 0.7807 - top_3_accuracy: 0.9140 - val_loss: 0.8960 - val_categorical_crossentropy: 0.8960 - val_categorical_accuracy: 0.7686 - val_top_3_accuracy: 0.9078\n",
            "Epoch 29/30\n",
            "800/800 [==============================] - 386s 482ms/step - loss: 0.8620 - categorical_crossentropy: 0.8620 - categorical_accuracy: 0.7765 - top_3_accuracy: 0.9115 - val_loss: 0.8880 - val_categorical_crossentropy: 0.8880 - val_categorical_accuracy: 0.7700 - val_top_3_accuracy: 0.9092\n",
            "Epoch 30/30\n",
            "800/800 [==============================] - 386s 483ms/step - loss: 0.8495 - categorical_crossentropy: 0.8495 - categorical_accuracy: 0.7798 - top_3_accuracy: 0.9131 - val_loss: 0.8868 - val_categorical_crossentropy: 0.8868 - val_categorical_accuracy: 0.7706 - val_top_3_accuracy: 0.9086\n"
          ],
          "name": "stdout"
        }
      ]
    },
    {
      "metadata": {
        "id": "xGuirKoFIeDp",
        "colab_type": "code",
        "colab": {
          "base_uri": "https://localhost:8080/",
          "height": 607
        },
        "outputId": "d4a82e65-4a7f-40e7-d1a8-ae67b298afeb"
      },
      "cell_type": "code",
      "source": [
        "hist_df = pd.DataFrame(hist.history)\n",
        "hist_df.to_csv('gs_mobile_history.csv', index=False)\n",
        "fig, axs = plt.subplots(nrows=2, sharex=True, figsize=(16, 10))\n",
        "axs[0].plot(hist_df.val_categorical_accuracy, lw=5, label='Validation Accuracy')\n",
        "axs[0].plot(hist_df.categorical_accuracy, lw=5, label='Training Accuracy')\n",
        "axs[0].set_ylabel('Accuracy')\n",
        "axs[0].set_xlabel('Epoch')\n",
        "axs[0].grid()\n",
        "axs[0].legend(loc=0)\n",
        "axs[1].plot(hist_df.val_categorical_crossentropy, lw=5, label='Validation MLogLoss')\n",
        "axs[1].plot(hist_df.categorical_crossentropy, lw=5, label='Training MLogLoss')\n",
        "axs[1].set_ylabel('MLogLoss')\n",
        "axs[1].set_xlabel('Epoch')\n",
        "axs[1].grid()\n",
        "axs[1].legend(loc=0)\n",
        "fig.savefig('hist.png', dpi=300)\n",
        "plt.show();"
      ],
      "execution_count": 20,
      "outputs": [
        {
          "output_type": "display_data",
          "data": {
            "image/png": "[encoded data removed]",
            "text/plain": [
              "<matplotlib.figure.Figure at 0x7f4bef2b3cf8>"
            ]
          },
          "metadata": {
            "tags": []
          }
        }
      ]
    },
    {
      "metadata": {
        "id": "h0ACCJlqIggL",
        "colab_type": "code",
        "colab": {
          "base_uri": "https://localhost:8080/",
          "height": 51
        },
        "outputId": "b479c6c2-c942-4582-b63f-5b8e203f8f2e"
      },
      "cell_type": "code",
      "source": [
        "valid_predictions = model.predict(x_valid, batch_size=128, verbose=1)\n",
        "map3 = mapk(valid_df[['y']].values, preds2catids(valid_predictions).values)\n",
        "print('Map3: {:.3f}'.format(map3))"
      ],
      "execution_count": 21,
      "outputs": [
        {
          "output_type": "stream",
          "text": [
            "34000/34000 [==============================] - 9s 271us/step\n",
            "Map3: 0.831\n"
          ],
          "name": "stdout"
        }
      ]
    },
    {
      "metadata": {
        "id": "1JWXeWnvXz-g",
        "colab_type": "text"
      },
      "cell_type": "markdown",
      "source": [
        "`Create Submission`"
      ]
    },
    {
      "metadata": {
        "id": "6hjFJu3qIjXT",
        "colab_type": "code",
        "colab": {
          "base_uri": "https://localhost:8080/",
          "height": 238
        },
        "outputId": "8a9177c5-ee02-466f-def7-ff793f63b306"
      },
      "cell_type": "code",
      "source": [
        "test = pd.read_csv('test_simplified.csv')\n",
        "test.head()\n",
        "x_test = df_to_image_array_xd(test, size)\n",
        "print(test.shape, x_test.shape)\n",
        "print('Test array memory {:.2f} GB'.format(x_test.nbytes / 1024.**3 ))"
      ],
      "execution_count": 22,
      "outputs": [
        {
          "output_type": "execute_result",
          "data": {
            "text/html": [
              "<div>\n",
              "<style scoped>\n",
              "    .dataframe tbody tr th:only-of-type {\n",
              "        vertical-align: middle;\n",
              "    }\n",
              "\n",
              "    .dataframe tbody tr th {\n",
              "        vertical-align: top;\n",
              "    }\n",
              "\n",
              "    .dataframe thead th {\n",
              "        text-align: right;\n",
              "    }\n",
              "</style>\n",
              "<table border=\"1\" class=\"dataframe\">\n",
              "  <thead>\n",
              "    <tr style=\"text-align: right;\">\n",
              "      <th></th>\n",
              "      <th>key_id</th>\n",
              "      <th>countrycode</th>\n",
              "      <th>drawing</th>\n",
              "    </tr>\n",
              "  </thead>\n",
              "  <tbody>\n",
              "    <tr>\n",
              "      <th>0</th>\n",
              "      <td>9000003627287624</td>\n",
              "      <td>DE</td>\n",
              "      <td>[[[17, 18, 20, 25, 137, 174, 242, 249, 251, 25...</td>\n",
              "    </tr>\n",
              "    <tr>\n",
              "      <th>1</th>\n",
              "      <td>9000010688666847</td>\n",
              "      <td>UA</td>\n",
              "      <td>[[[174, 145, 106, 38, 11, 4, 4, 15, 29, 78, 16...</td>\n",
              "    </tr>\n",
              "    <tr>\n",
              "      <th>2</th>\n",
              "      <td>9000023642890129</td>\n",
              "      <td>BG</td>\n",
              "      <td>[[[0, 12, 14, 17, 16, 24, 55, 57, 60, 79, 82, ...</td>\n",
              "    </tr>\n",
              "    <tr>\n",
              "      <th>3</th>\n",
              "      <td>9000038588854897</td>\n",
              "      <td>US</td>\n",
              "      <td>[[[0, 9, 23, 40, 54, 60, 81, 105, 123, 167, 20...</td>\n",
              "    </tr>\n",
              "    <tr>\n",
              "      <th>4</th>\n",
              "      <td>9000052667981386</td>\n",
              "      <td>AR</td>\n",
              "      <td>[[[87, 82, 71, 63, 66, 92, 96, 95], [220, 218,...</td>\n",
              "    </tr>\n",
              "  </tbody>\n",
              "</table>\n",
              "</div>"
            ],
            "text/plain": [
              "             key_id countrycode  \\\n",
              "0  9000003627287624          DE   \n",
              "1  9000010688666847          UA   \n",
              "2  9000023642890129          BG   \n",
              "3  9000038588854897          US   \n",
              "4  9000052667981386          AR   \n",
              "\n",
              "                                             drawing  \n",
              "0  [[[17, 18, 20, 25, 137, 174, 242, 249, 251, 25...  \n",
              "1  [[[174, 145, 106, 38, 11, 4, 4, 15, 29, 78, 16...  \n",
              "2  [[[0, 12, 14, 17, 16, 24, 55, 57, 60, 79, 82, ...  \n",
              "3  [[[0, 9, 23, 40, 54, 60, 81, 105, 123, 167, 20...  \n",
              "4  [[[87, 82, 71, 63, 66, 92, 96, 95], [220, 218,...  "
            ]
          },
          "metadata": {
            "tags": []
          },
          "execution_count": 22
        },
        {
          "output_type": "stream",
          "text": [
            "(112199, 3) (112199, 64, 64, 1)\n",
            "Test array memory 1.71 GB\n"
          ],
          "name": "stdout"
        }
      ]
    },
    {
      "metadata": {
        "id": "nWQw4ExXIljd",
        "colab_type": "code",
        "colab": {
          "base_uri": "https://localhost:8080/",
          "height": 442
        },
        "outputId": "7217409f-c854-49ab-dbc6-cd386a2e733d"
      },
      "cell_type": "code",
      "source": [
        "test_predictions = model.predict(x_test, batch_size=128, verbose=1)\n",
        "\n",
        "top3 = preds2catids(test_predictions)\n",
        "top3.head()\n",
        "top3.shape\n",
        "\n",
        "id2cat = {k: cat.replace(' ', '_') for k, cat in enumerate(categories)}\n",
        "top3cats = top3.replace(id2cat)\n",
        "top3cats.head()\n",
        "top3cats.shape"
      ],
      "execution_count": 23,
      "outputs": [
        {
          "output_type": "stream",
          "text": [
            "112199/112199 [==============================] - 27s 239us/step\n"
          ],
          "name": "stdout"
        },
        {
          "output_type": "execute_result",
          "data": {
            "text/html": [
              "<div>\n",
              "<style scoped>\n",
              "    .dataframe tbody tr th:only-of-type {\n",
              "        vertical-align: middle;\n",
              "    }\n",
              "\n",
              "    .dataframe tbody tr th {\n",
              "        vertical-align: top;\n",
              "    }\n",
              "\n",
              "    .dataframe thead th {\n",
              "        text-align: right;\n",
              "    }\n",
              "</style>\n",
              "<table border=\"1\" class=\"dataframe\">\n",
              "  <thead>\n",
              "    <tr style=\"text-align: right;\">\n",
              "      <th></th>\n",
              "      <th>a</th>\n",
              "      <th>b</th>\n",
              "      <th>c</th>\n",
              "    </tr>\n",
              "  </thead>\n",
              "  <tbody>\n",
              "    <tr>\n",
              "      <th>0</th>\n",
              "      <td>234</td>\n",
              "      <td>281</td>\n",
              "      <td>285</td>\n",
              "    </tr>\n",
              "    <tr>\n",
              "      <th>1</th>\n",
              "      <td>144</td>\n",
              "      <td>36</td>\n",
              "      <td>226</td>\n",
              "    </tr>\n",
              "    <tr>\n",
              "      <th>2</th>\n",
              "      <td>305</td>\n",
              "      <td>62</td>\n",
              "      <td>110</td>\n",
              "    </tr>\n",
              "    <tr>\n",
              "      <th>3</th>\n",
              "      <td>187</td>\n",
              "      <td>303</td>\n",
              "      <td>127</td>\n",
              "    </tr>\n",
              "    <tr>\n",
              "      <th>4</th>\n",
              "      <td>56</td>\n",
              "      <td>113</td>\n",
              "      <td>165</td>\n",
              "    </tr>\n",
              "  </tbody>\n",
              "</table>\n",
              "</div>"
            ],
            "text/plain": [
              "     a    b    c\n",
              "0  234  281  285\n",
              "1  144   36  226\n",
              "2  305   62  110\n",
              "3  187  303  127\n",
              "4   56  113  165"
            ]
          },
          "metadata": {
            "tags": []
          },
          "execution_count": 23
        },
        {
          "output_type": "execute_result",
          "data": {
            "text/plain": [
              "(112199, 3)"
            ]
          },
          "metadata": {
            "tags": []
          },
          "execution_count": 23
        },
        {
          "output_type": "execute_result",
          "data": {
            "text/html": [
              "<div>\n",
              "<style scoped>\n",
              "    .dataframe tbody tr th:only-of-type {\n",
              "        vertical-align: middle;\n",
              "    }\n",
              "\n",
              "    .dataframe tbody tr th {\n",
              "        vertical-align: top;\n",
              "    }\n",
              "\n",
              "    .dataframe thead th {\n",
              "        text-align: right;\n",
              "    }\n",
              "</style>\n",
              "<table border=\"1\" class=\"dataframe\">\n",
              "  <thead>\n",
              "    <tr style=\"text-align: right;\">\n",
              "      <th></th>\n",
              "      <th>a</th>\n",
              "      <th>b</th>\n",
              "      <th>c</th>\n",
              "    </tr>\n",
              "  </thead>\n",
              "  <tbody>\n",
              "    <tr>\n",
              "      <th>0</th>\n",
              "      <td>radio</td>\n",
              "      <td>stereo</td>\n",
              "      <td>stove</td>\n",
              "    </tr>\n",
              "    <tr>\n",
              "      <th>1</th>\n",
              "      <td>hockey_puck</td>\n",
              "      <td>bottlecap</td>\n",
              "      <td>pool</td>\n",
              "    </tr>\n",
              "    <tr>\n",
              "      <th>2</th>\n",
              "      <td>The_Great_Wall_of_China</td>\n",
              "      <td>castle</td>\n",
              "      <td>fence</td>\n",
              "    </tr>\n",
              "    <tr>\n",
              "      <th>3</th>\n",
              "      <td>mountain</td>\n",
              "      <td>tent</td>\n",
              "      <td>garden_hose</td>\n",
              "    </tr>\n",
              "    <tr>\n",
              "      <th>4</th>\n",
              "      <td>campfire</td>\n",
              "      <td>fireplace</td>\n",
              "      <td>leaf</td>\n",
              "    </tr>\n",
              "  </tbody>\n",
              "</table>\n",
              "</div>"
            ],
            "text/plain": [
              "                         a          b            c\n",
              "0                    radio     stereo        stove\n",
              "1              hockey_puck  bottlecap         pool\n",
              "2  The_Great_Wall_of_China     castle        fence\n",
              "3                 mountain       tent  garden_hose\n",
              "4                 campfire  fireplace         leaf"
            ]
          },
          "metadata": {
            "tags": []
          },
          "execution_count": 23
        },
        {
          "output_type": "execute_result",
          "data": {
            "text/plain": [
              "(112199, 3)"
            ]
          },
          "metadata": {
            "tags": []
          },
          "execution_count": 23
        }
      ]
    },
    {
      "metadata": {
        "id": "fNfFPsqLImSm",
        "colab_type": "code",
        "colab": {
          "base_uri": "https://localhost:8080/",
          "height": 221
        },
        "outputId": "8f9f0422-554e-472a-fd99-d443fa8ba208"
      },
      "cell_type": "code",
      "source": [
        "test['word'] = top3cats['a'] + ' ' + top3cats['b'] + ' ' + top3cats['c']\n",
        "submission = test[['key_id', 'word']]\n",
        "submission.to_csv('gs_mn_submission_{}.csv'.format(int(map3 * 10**4)), index=False)\n",
        "submission.head()\n",
        "submission.shape"
      ],
      "execution_count": 24,
      "outputs": [
        {
          "output_type": "execute_result",
          "data": {
            "text/html": [
              "<div>\n",
              "<style scoped>\n",
              "    .dataframe tbody tr th:only-of-type {\n",
              "        vertical-align: middle;\n",
              "    }\n",
              "\n",
              "    .dataframe tbody tr th {\n",
              "        vertical-align: top;\n",
              "    }\n",
              "\n",
              "    .dataframe thead th {\n",
              "        text-align: right;\n",
              "    }\n",
              "</style>\n",
              "<table border=\"1\" class=\"dataframe\">\n",
              "  <thead>\n",
              "    <tr style=\"text-align: right;\">\n",
              "      <th></th>\n",
              "      <th>key_id</th>\n",
              "      <th>word</th>\n",
              "    </tr>\n",
              "  </thead>\n",
              "  <tbody>\n",
              "    <tr>\n",
              "      <th>0</th>\n",
              "      <td>9000003627287624</td>\n",
              "      <td>radio stereo stove</td>\n",
              "    </tr>\n",
              "    <tr>\n",
              "      <th>1</th>\n",
              "      <td>9000010688666847</td>\n",
              "      <td>hockey_puck bottlecap pool</td>\n",
              "    </tr>\n",
              "    <tr>\n",
              "      <th>2</th>\n",
              "      <td>9000023642890129</td>\n",
              "      <td>The_Great_Wall_of_China castle fence</td>\n",
              "    </tr>\n",
              "    <tr>\n",
              "      <th>3</th>\n",
              "      <td>9000038588854897</td>\n",
              "      <td>mountain tent garden_hose</td>\n",
              "    </tr>\n",
              "    <tr>\n",
              "      <th>4</th>\n",
              "      <td>9000052667981386</td>\n",
              "      <td>campfire fireplace leaf</td>\n",
              "    </tr>\n",
              "  </tbody>\n",
              "</table>\n",
              "</div>"
            ],
            "text/plain": [
              "             key_id                                  word\n",
              "0  9000003627287624                    radio stereo stove\n",
              "1  9000010688666847            hockey_puck bottlecap pool\n",
              "2  9000023642890129  The_Great_Wall_of_China castle fence\n",
              "3  9000038588854897             mountain tent garden_hose\n",
              "4  9000052667981386               campfire fireplace leaf"
            ]
          },
          "metadata": {
            "tags": []
          },
          "execution_count": 24
        },
        {
          "output_type": "execute_result",
          "data": {
            "text/plain": [
              "(112199, 2)"
            ]
          },
          "metadata": {
            "tags": []
          },
          "execution_count": 24
        }
      ]
    },
    {
      "metadata": {
        "id": "IUxLFgahIqeH",
        "colab_type": "code",
        "colab": {
          "base_uri": "https://localhost:8080/",
          "height": 51
        },
        "outputId": "693bc670-2516-4b6e-d21a-c39156d9cdda"
      },
      "cell_type": "code",
      "source": [
        "end = dt.datetime.now()\n",
        "print('Latest run {}.\\nTotal time {}s'.format(end, (end - start).seconds))"
      ],
      "execution_count": 25,
      "outputs": [
        {
          "output_type": "stream",
          "text": [
            "Latest run 2018-11-10 23:02:10.588017.\n",
            "Total time 21054s\n"
          ],
          "name": "stdout"
        }
      ]
    },
    {
      "metadata": {
        "id": "6w07ZNokjwWg",
        "colab_type": "code",
        "colab": {
          "base_uri": "https://localhost:8080/",
          "height": 34
        },
        "outputId": "77b824ae-e239-436d-b0ad-c596dfb827d5"
      },
      "cell_type": "code",
      "source": [
        "# Install the PyDrive wrapper & import libraries.\n",
        "# This only needs to be done once in a notebook.\n",
        "!pip install -U -q PyDrive\n",
        "from pydrive.auth import GoogleAuth\n",
        "from pydrive.drive import GoogleDrive\n",
        "from google.colab import auth\n",
        "from oauth2client.client import GoogleCredentials\n",
        "\n",
        "# Authenticate and create the PyDrive client.\n",
        "# This only needs to be done once in a notebook.\n",
        "auth.authenticate_user()\n",
        "gauth = GoogleAuth()\n",
        "gauth.credentials = GoogleCredentials.get_application_default()\n",
        "drive = GoogleDrive(gauth)\n",
        "\n",
        "saved_file = 'gs_mn_submission_{}.csv'.format(int(map3 * 10**4))\n",
        "\n",
        "# Create & upload a file.\n",
        "uploaded = drive.CreateFile({'title': saved_file})\n",
        "uploaded.SetContentFile(saved_file)\n",
        "uploaded.Upload()\n",
        "print('Uploaded file with ID {}'.format(uploaded.get('id')))"
      ],
      "execution_count": 26,
      "outputs": [
        {
          "output_type": "stream",
          "text": [
            "Uploaded file with ID 1AyrfoNHN-YRhSwrDmHGZHd3qLV9UI7F2\n"
          ],
          "name": "stdout"
        }
      ]
    }
  ]
}